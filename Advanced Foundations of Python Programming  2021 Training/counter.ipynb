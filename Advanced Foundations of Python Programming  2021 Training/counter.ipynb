{
 "cells": [
  {
   "cell_type": "markdown",
   "metadata": {},
   "source": [
    "## counters"
   ]
  },
  {
   "cell_type": "code",
   "execution_count": 1,
   "metadata": {},
   "outputs": [
    {
     "name": "stdout",
     "output_type": "stream",
     "text": [
      "Counter({'b': 4, 'a': 3, 'c': 2})\n"
     ]
    }
   ],
   "source": [
    "from collections import Counter\n",
    "\n",
    "# Counter with list\n",
    "\n",
    "new_list = ['a', 'b', 'c', 'a', 'b', 'b', 'a', 'c', 'b']\n",
    "print(Counter(new_list))"
   ]
  },
  {
   "cell_type": "code",
   "execution_count": 2,
   "metadata": {},
   "outputs": [
    {
     "name": "stdout",
     "output_type": "stream",
     "text": [
      "Counter({'o': 4, 'e': 3, ' ': 3, 'a': 3, 'd': 3, 'n': 3, 'c': 2, 't': 2, 'W': 1, 'l': 1, 'm': 1, 'v': 1, 'f': 1, 'u': 1, 'i': 1, 's': 1})\n"
     ]
    }
   ],
   "source": [
    "# Counter with str\n",
    "\n",
    "new_str = \"Welcome to advanced foundations\"\n",
    "print(Counter(new_str))"
   ]
  },
  {
   "cell_type": "code",
   "execution_count": 5,
   "metadata": {},
   "outputs": [
    {
     "name": "stdout",
     "output_type": "stream",
     "text": [
      "Counter({'d': 4, 'c': 3, 'b': 2, 'a': 1})\n"
     ]
    }
   ],
   "source": [
    "# Counter with dict\n",
    "\n",
    "new_dict = {'a':1, \"b\":2, \"c\":3, \"d\":4, \"d\":4}\n",
    "print(Counter(new_dict))"
   ]
  },
  {
   "cell_type": "code",
   "execution_count": 6,
   "metadata": {},
   "outputs": [
    {
     "name": "stdout",
     "output_type": "stream",
     "text": [
      "Counter({'apple': 3, 'banana': 2, 'cherry': 2, 'fig': 1})\n"
     ]
    }
   ],
   "source": [
    "# Counter with tuple\n",
    "\n",
    "new_tuple = ('apple','banana','cherry','apple','apple','banana','fig','cherry')\n",
    "print(Counter(new_tuple))"
   ]
  },
  {
   "cell_type": "code",
   "execution_count": 10,
   "metadata": {},
   "outputs": [
    {
     "data": {
      "text/plain": [
       "Counter()"
      ]
     },
     "execution_count": 10,
     "metadata": {},
     "output_type": "execute_result"
    }
   ],
   "source": [
    "# empty Counter\n",
    "\n",
    "_counting = Counter()\n",
    "_counting"
   ]
  },
  {
   "cell_type": "code",
   "execution_count": 11,
   "metadata": {},
   "outputs": [
    {
     "data": {
      "text/plain": [
       "Counter({'H': 1,\n",
       "         'i': 1,\n",
       "         ',': 1,\n",
       "         ' ': 1,\n",
       "         'P': 1,\n",
       "         'y': 1,\n",
       "         't': 1,\n",
       "         'h': 1,\n",
       "         'o': 1,\n",
       "         'n': 1,\n",
       "         '!': 1})"
      ]
     },
     "execution_count": 11,
     "metadata": {},
     "output_type": "execute_result"
    }
   ],
   "source": [
    "_counting.update(\"Hi, Python!\")\n",
    "_counting"
   ]
  },
  {
   "cell_type": "code",
   "execution_count": 12,
   "metadata": {},
   "outputs": [
    {
     "data": {
      "text/plain": [
       "Counter({'H': 2,\n",
       "         'i': 3,\n",
       "         ',': 2,\n",
       "         ' ': 4,\n",
       "         'P': 2,\n",
       "         'y': 2,\n",
       "         't': 2,\n",
       "         'h': 2,\n",
       "         'o': 2,\n",
       "         'n': 3,\n",
       "         '!': 2,\n",
       "         's': 1,\n",
       "         'f': 1,\n",
       "         'u': 1})"
      ]
     },
     "execution_count": 12,
     "metadata": {},
     "output_type": "execute_result"
    }
   ],
   "source": [
    "_counting.update(\"Hi, Python is fun!\")\n",
    "_counting"
   ]
  },
  {
   "cell_type": "code",
   "execution_count": 14,
   "metadata": {},
   "outputs": [
    {
     "name": "stdout",
     "output_type": "stream",
     "text": [
      "Counter({'c': 3, 'b': 2, 'a': 1})\n"
     ]
    }
   ],
   "source": [
    "# delete from counter\n",
    "\n",
    "new_dict = {'a':1, \"b\":2, \"c\":3, \"d\":4, \"d\":4}\n",
    "del new_dict['d']\n",
    "print(Counter(new_dict))"
   ]
  },
  {
   "cell_type": "code",
   "execution_count": null,
   "metadata": {},
   "outputs": [],
   "source": []
  }
 ],
 "metadata": {
  "interpreter": {
   "hash": "43921ccd0d417290968ddb1092ede1b4ffa766979e9b52fdd2e9ad77cb2ca700"
  },
  "kernelspec": {
   "display_name": "Python 3.7.9 64-bit ('udemy': venv)",
   "name": "python3"
  },
  "language_info": {
   "codemirror_mode": {
    "name": "ipython",
    "version": 3
   },
   "file_extension": ".py",
   "mimetype": "text/x-python",
   "name": "python",
   "nbconvert_exporter": "python",
   "pygments_lexer": "ipython3",
   "version": "3.7.9"
  },
  "orig_nbformat": 4
 },
 "nbformat": 4,
 "nbformat_minor": 2
}
