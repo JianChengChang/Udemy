{
 "cells": [
  {
   "cell_type": "code",
   "execution_count": 1,
   "metadata": {},
   "outputs": [],
   "source": [
    "import logging"
   ]
  },
  {
   "cell_type": "code",
   "execution_count": 2,
   "metadata": {},
   "outputs": [],
   "source": [
    "# Build nd config the logger\n",
    "logging.basicConfig(filename = \"main.log\",\n",
    "                    format = \"%(asctime)s %(message)s\",\n",
    "                    filemode = 'w')\n",
    "\n",
    "# set an object for the Logger\n",
    "new_logger = logging.getLogger()\n",
    "\n",
    "# set threshold to debug\n",
    "new_logger.setLevel(logging.DEBUG)\n",
    "\n",
    "# test messages for the log\n",
    "new_logger.debug(\"This is a Harmless debug message\")\n",
    "new_logger.info(\"Information message\")\n",
    "new_logger.warning(\"A warning message\")\n",
    "new_logger.error(\"This is an error message\")\n",
    "new_logger.critical(\"No Internet, Internet is down now\")"
   ]
  },
  {
   "cell_type": "code",
   "execution_count": null,
   "metadata": {},
   "outputs": [],
   "source": []
  }
 ],
 "metadata": {
  "interpreter": {
   "hash": "43921ccd0d417290968ddb1092ede1b4ffa766979e9b52fdd2e9ad77cb2ca700"
  },
  "kernelspec": {
   "display_name": "Python 3.7.9 64-bit ('udemy': venv)",
   "name": "python3"
  },
  "language_info": {
   "codemirror_mode": {
    "name": "ipython",
    "version": 3
   },
   "file_extension": ".py",
   "mimetype": "text/x-python",
   "name": "python",
   "nbconvert_exporter": "python",
   "pygments_lexer": "ipython3",
   "version": "3.7.9"
  },
  "orig_nbformat": 4
 },
 "nbformat": 4,
 "nbformat_minor": 2
}
