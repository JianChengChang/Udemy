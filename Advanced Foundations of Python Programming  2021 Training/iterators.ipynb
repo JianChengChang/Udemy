{
 "cells": [
  {
   "cell_type": "markdown",
   "metadata": {},
   "source": [
    "## Iterators"
   ]
  },
  {
   "cell_type": "code",
   "execution_count": 5,
   "metadata": {},
   "outputs": [],
   "source": [
    "numbers = [10, 20, 30, 40, 50, 60, 70]\n",
    "new_iterator = iter(numbers)"
   ]
  },
  {
   "cell_type": "code",
   "execution_count": 6,
   "metadata": {},
   "outputs": [
    {
     "name": "stdout",
     "output_type": "stream",
     "text": [
      "10\n",
      "20\n",
      "30\n",
      "40\n",
      "50\n",
      "60\n",
      "70\n"
     ]
    }
   ],
   "source": [
    "print(next(new_iterator))\n",
    "print(next(new_iterator))\n",
    "print(next(new_iterator))\n",
    "print(next(new_iterator))\n",
    "print(next(new_iterator))\n",
    "print(next(new_iterator))\n",
    "print(next(new_iterator))\n"
   ]
  },
  {
   "cell_type": "code",
   "execution_count": 7,
   "metadata": {},
   "outputs": [
    {
     "ename": "StopIteration",
     "evalue": "",
     "output_type": "error",
     "traceback": [
      "\u001b[1;31m---------------------------------------------------------------------------\u001b[0m",
      "\u001b[1;31mStopIteration\u001b[0m                             Traceback (most recent call last)",
      "\u001b[1;32m~\\AppData\\Local\\Temp/ipykernel_10040/2317056917.py\u001b[0m in \u001b[0;36m<module>\u001b[1;34m\u001b[0m\n\u001b[1;32m----> 1\u001b[1;33m \u001b[0mprint\u001b[0m\u001b[1;33m(\u001b[0m\u001b[0mnext\u001b[0m\u001b[1;33m(\u001b[0m\u001b[0mnew_iterator\u001b[0m\u001b[1;33m)\u001b[0m\u001b[1;33m)\u001b[0m\u001b[1;33m\u001b[0m\u001b[1;33m\u001b[0m\u001b[0m\n\u001b[0m",
      "\u001b[1;31mStopIteration\u001b[0m: "
     ]
    }
   ],
   "source": [
    "print(next(new_iterator))"
   ]
  },
  {
   "cell_type": "code",
   "execution_count": 8,
   "metadata": {},
   "outputs": [
    {
     "name": "stdout",
     "output_type": "stream",
     "text": [
      "I\n",
      "t\n",
      "e\n",
      "r\n",
      "a\n",
      "t\n",
      "o\n"
     ]
    }
   ],
   "source": [
    "seq = \"Iterator tutorial in Python\"\n",
    "new_iterator = iter(seq)\n",
    "print(next(new_iterator))\n",
    "print(next(new_iterator))\n",
    "print(next(new_iterator))\n",
    "print(next(new_iterator))\n",
    "print(next(new_iterator))\n",
    "print(next(new_iterator))\n",
    "print(next(new_iterator))"
   ]
  },
  {
   "cell_type": "code",
   "execution_count": 9,
   "metadata": {},
   "outputs": [],
   "source": [
    "def new_iterator(n):\n",
    "    my_iterable = iter(n)\n",
    "    while True:\n",
    "        try:\n",
    "            print(next(my_iterable))\n",
    "        except StopIteration:\n",
    "            break\n"
   ]
  },
  {
   "cell_type": "code",
   "execution_count": 10,
   "metadata": {},
   "outputs": [
    {
     "name": "stdout",
     "output_type": "stream",
     "text": [
      "10\n",
      "30\n",
      "50\n",
      "70\n"
     ]
    }
   ],
   "source": [
    "new_iterator([10,30,50,70])"
   ]
  },
  {
   "cell_type": "code",
   "execution_count": 11,
   "metadata": {},
   "outputs": [
    {
     "name": "stdout",
     "output_type": "stream",
     "text": [
      "11\n",
      "22\n",
      "33\n",
      "44\n"
     ]
    }
   ],
   "source": [
    "new_iterator((11,22,33,44))"
   ]
  },
  {
   "cell_type": "code",
   "execution_count": 12,
   "metadata": {},
   "outputs": [
    {
     "name": "stdout",
     "output_type": "stream",
     "text": [
      "A\n",
      " \n",
      "p\n",
      "o\n",
      "w\n",
      "e\n",
      "r\n",
      "f\n",
      "u\n",
      "l\n",
      " \n",
      "i\n",
      "t\n",
      "e\n",
      "r\n",
      "a\n",
      "t\n",
      "o\n",
      "r\n",
      " \n",
      "f\n",
      "u\n",
      "n\n",
      "c\n",
      "t\n",
      "i\n",
      "o\n",
      "n\n"
     ]
    }
   ],
   "source": [
    "new_iterator(\"A powerful iterator function\")"
   ]
  },
  {
   "cell_type": "code",
   "execution_count": 16,
   "metadata": {},
   "outputs": [],
   "source": [
    "# Building Iterator using OOP\n",
    "class Incrementing:\n",
    "    def __iter__(self):\n",
    "        self.count = 0\n",
    "        return self\n",
    "    \n",
    "    def __next__(self):\n",
    "        x = self.count\n",
    "        self.count += 1\n",
    "        return x"
   ]
  },
  {
   "cell_type": "code",
   "execution_count": 17,
   "metadata": {},
   "outputs": [],
   "source": [
    "new_obj = Incrementing()\n",
    "new_iter = iter(new_obj)"
   ]
  },
  {
   "cell_type": "code",
   "execution_count": 18,
   "metadata": {},
   "outputs": [
    {
     "name": "stdout",
     "output_type": "stream",
     "text": [
      "0\n",
      "1\n",
      "2\n",
      "3\n",
      "4\n"
     ]
    }
   ],
   "source": [
    "print(next(new_iter))\n",
    "print(next(new_iter))\n",
    "print(next(new_iter))\n",
    "print(next(new_iter))\n",
    "print(next(new_iter))\n"
   ]
  },
  {
   "cell_type": "code",
   "execution_count": 20,
   "metadata": {},
   "outputs": [],
   "source": [
    "class Incrementing:\n",
    "    def __iter__(self):\n",
    "        self.count = 0\n",
    "        return self\n",
    "    \n",
    "    def __next__(self):\n",
    "        if self.count <= 15:\n",
    "            x = self.count\n",
    "            self.count += 1\n",
    "            return x\n",
    "        else:\n",
    "            raise StopIteration"
   ]
  },
  {
   "cell_type": "code",
   "execution_count": 21,
   "metadata": {},
   "outputs": [
    {
     "name": "stdout",
     "output_type": "stream",
     "text": [
      "0\n",
      "1\n",
      "2\n",
      "3\n",
      "4\n",
      "5\n",
      "6\n",
      "7\n",
      "8\n",
      "9\n",
      "10\n",
      "11\n",
      "12\n",
      "13\n",
      "14\n",
      "15\n"
     ]
    }
   ],
   "source": [
    "for num in Incrementing():\n",
    "    print(num)"
   ]
  },
  {
   "cell_type": "code",
   "execution_count": null,
   "metadata": {},
   "outputs": [],
   "source": []
  }
 ],
 "metadata": {
  "interpreter": {
   "hash": "43921ccd0d417290968ddb1092ede1b4ffa766979e9b52fdd2e9ad77cb2ca700"
  },
  "kernelspec": {
   "display_name": "Python 3.7.9 64-bit ('udemy': venv)",
   "name": "python3"
  },
  "language_info": {
   "codemirror_mode": {
    "name": "ipython",
    "version": 3
   },
   "file_extension": ".py",
   "mimetype": "text/x-python",
   "name": "python",
   "nbconvert_exporter": "python",
   "pygments_lexer": "ipython3",
   "version": "3.7.9"
  },
  "orig_nbformat": 4
 },
 "nbformat": 4,
 "nbformat_minor": 2
}
