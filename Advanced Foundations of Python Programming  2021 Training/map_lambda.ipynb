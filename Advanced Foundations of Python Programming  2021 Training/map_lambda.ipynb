{
 "cells": [
  {
   "cell_type": "markdown",
   "metadata": {},
   "source": [
    "## Map"
   ]
  },
  {
   "cell_type": "code",
   "execution_count": 1,
   "metadata": {},
   "outputs": [
    {
     "name": "stdout",
     "output_type": "stream",
     "text": [
      "<map object at 0x000001523E653BC8>\n"
     ]
    }
   ],
   "source": [
    "new_list = [10, 20, 30, 40, 50]\n",
    "\n",
    "def addition(n):\n",
    "    return n + 5\n",
    "\n",
    "my_list = map(addition, new_list)\n",
    "print(my_list) "
   ]
  },
  {
   "cell_type": "code",
   "execution_count": 2,
   "metadata": {},
   "outputs": [
    {
     "name": "stdout",
     "output_type": "stream",
     "text": [
      "15\n",
      "25\n",
      "35\n",
      "45\n",
      "55\n"
     ]
    }
   ],
   "source": [
    "for item in my_list:\n",
    "    print(item)"
   ]
  },
  {
   "cell_type": "code",
   "execution_count": 4,
   "metadata": {},
   "outputs": [
    {
     "name": "stdout",
     "output_type": "stream",
     "text": [
      "('apple banana', 'watermelon fig')\n"
     ]
    }
   ],
   "source": [
    "def adding(x, y):\n",
    "    return x + y\n",
    "\n",
    "my_list = map(adding, ('apple ', 'watermelon '), ('banana', 'fig'))\n",
    "print(tuple(my_list))"
   ]
  },
  {
   "cell_type": "markdown",
   "metadata": {},
   "source": [
    "## map + lambda"
   ]
  },
  {
   "cell_type": "code",
   "execution_count": 5,
   "metadata": {},
   "outputs": [
    {
     "name": "stdout",
     "output_type": "stream",
     "text": [
      "<map object at 0x000001523F0DCA48>\n"
     ]
    }
   ],
   "source": [
    "new_list = [5, 12, 20, 25, 30]\n",
    "cube_n = map(lambda n: n*n*n, new_list)\n",
    "print(cube_n)"
   ]
  },
  {
   "cell_type": "code",
   "execution_count": 6,
   "metadata": {},
   "outputs": [
    {
     "name": "stdout",
     "output_type": "stream",
     "text": [
      "[125, 1728, 8000, 15625, 27000]\n"
     ]
    }
   ],
   "source": [
    "print(list(cube_n))"
   ]
  },
  {
   "cell_type": "code",
   "execution_count": 8,
   "metadata": {},
   "outputs": [
    {
     "name": "stdout",
     "output_type": "stream",
     "text": [
      "[400, 500, 600]\n"
     ]
    }
   ],
   "source": [
    "numbers1 = [10, 10, 10]\n",
    "numbers2 = [40, 50 ,60]\n",
    "\n",
    "new_result = map(lambda a, b: a*b, numbers1, numbers2)\n",
    "print(list(new_result))"
   ]
  },
  {
   "cell_type": "code",
   "execution_count": null,
   "metadata": {},
   "outputs": [],
   "source": []
  }
 ],
 "metadata": {
  "interpreter": {
   "hash": "43921ccd0d417290968ddb1092ede1b4ffa766979e9b52fdd2e9ad77cb2ca700"
  },
  "kernelspec": {
   "display_name": "Python 3.7.9 64-bit ('udemy': venv)",
   "name": "python3"
  },
  "language_info": {
   "codemirror_mode": {
    "name": "ipython",
    "version": 3
   },
   "file_extension": ".py",
   "mimetype": "text/x-python",
   "name": "python",
   "nbconvert_exporter": "python",
   "pygments_lexer": "ipython3",
   "version": "3.7.9"
  },
  "orig_nbformat": 4
 },
 "nbformat": 4,
 "nbformat_minor": 2
}
