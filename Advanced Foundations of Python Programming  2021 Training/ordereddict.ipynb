{
 "cells": [
  {
   "cell_type": "markdown",
   "metadata": {},
   "source": [
    "## Ordereddict"
   ]
  },
  {
   "cell_type": "code",
   "execution_count": 2,
   "metadata": {},
   "outputs": [],
   "source": [
    "from collections import OrderedDict"
   ]
  },
  {
   "cell_type": "code",
   "execution_count": 9,
   "metadata": {},
   "outputs": [
    {
     "data": {
      "text/plain": [
       "{'apple': 3, 'banana': 7, 'cherry': 4}"
      ]
     },
     "execution_count": 9,
     "metadata": {},
     "output_type": "execute_result"
    }
   ],
   "source": [
    "# Create dict\n",
    "new_dict = {'apple':3, \"banana\":7, \"cherry\":4}\n",
    "new_dict"
   ]
  },
  {
   "cell_type": "code",
   "execution_count": 10,
   "metadata": {},
   "outputs": [
    {
     "name": "stdout",
     "output_type": "stream",
     "text": [
      "OrderedDict()\n"
     ]
    }
   ],
   "source": [
    "# empty ordered dict\n",
    "new_ordereddict = OrderedDict()\n",
    "print(new_ordereddict)"
   ]
  },
  {
   "cell_type": "code",
   "execution_count": 11,
   "metadata": {},
   "outputs": [
    {
     "name": "stdout",
     "output_type": "stream",
     "text": [
      "OrderedDict([('apple', 3), ('banana', 7), ('cherry', 4)])\n"
     ]
    }
   ],
   "source": [
    "# ordered dict from regular dict\n",
    "new_ordereddict = OrderedDict(new_dict)\n",
    "print(new_ordereddict)"
   ]
  },
  {
   "cell_type": "code",
   "execution_count": 12,
   "metadata": {},
   "outputs": [
    {
     "name": "stdout",
     "output_type": "stream",
     "text": [
      "OrderedDict([('apple', 3), ('banana', 7), ('cherry', 4), ('fig', 5)])\n"
     ]
    }
   ],
   "source": [
    "# add item to dict\n",
    "new_ordereddict['fig'] = 5\n",
    "print(new_ordereddict)"
   ]
  },
  {
   "cell_type": "code",
   "execution_count": 13,
   "metadata": {},
   "outputs": [
    {
     "name": "stdout",
     "output_type": "stream",
     "text": [
      "OrderedDict([('apple', 10), ('banana', 7), ('cherry', 4), ('fig', 5)])\n"
     ]
    }
   ],
   "source": [
    "# replace item in a dict\n",
    "new_ordereddict['apple'] = 10\n",
    "print(new_ordereddict)"
   ]
  },
  {
   "cell_type": "code",
   "execution_count": 14,
   "metadata": {},
   "outputs": [
    {
     "name": "stdout",
     "output_type": "stream",
     "text": [
      "4\n",
      "OrderedDict([('apple', 10), ('banana', 7), ('fig', 5)])\n"
     ]
    }
   ],
   "source": [
    "# del values\n",
    "print(new_ordereddict.pop('cherry'))\n",
    "print(new_ordereddict)"
   ]
  },
  {
   "cell_type": "code",
   "execution_count": 15,
   "metadata": {},
   "outputs": [
    {
     "name": "stdout",
     "output_type": "stream",
     "text": [
      "OrderedDict([('banana', 7), ('fig', 5), ('apple', 10)])\n"
     ]
    }
   ],
   "source": [
    "# rearrange the order\n",
    "new_ordereddict.move_to_end('apple')\n",
    "print(new_ordereddict)"
   ]
  },
  {
   "cell_type": "code",
   "execution_count": 16,
   "metadata": {},
   "outputs": [
    {
     "name": "stdout",
     "output_type": "stream",
     "text": [
      "apple\n",
      "fig\n",
      "banana\n"
     ]
    }
   ],
   "source": [
    "# reverse iteration\n",
    "for item in reversed(new_ordereddict):\n",
    "    print(item)"
   ]
  },
  {
   "cell_type": "code",
   "execution_count": null,
   "metadata": {},
   "outputs": [],
   "source": []
  }
 ],
 "metadata": {
  "interpreter": {
   "hash": "43921ccd0d417290968ddb1092ede1b4ffa766979e9b52fdd2e9ad77cb2ca700"
  },
  "kernelspec": {
   "display_name": "Python 3.7.9 64-bit ('udemy': venv)",
   "name": "python3"
  },
  "language_info": {
   "codemirror_mode": {
    "name": "ipython",
    "version": 3
   },
   "file_extension": ".py",
   "mimetype": "text/x-python",
   "name": "python",
   "nbconvert_exporter": "python",
   "pygments_lexer": "ipython3",
   "version": "3.7.9"
  },
  "orig_nbformat": 4
 },
 "nbformat": 4,
 "nbformat_minor": 2
}
