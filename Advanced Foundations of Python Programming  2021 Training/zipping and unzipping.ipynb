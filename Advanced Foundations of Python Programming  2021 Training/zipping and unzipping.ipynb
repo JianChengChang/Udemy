{
 "cells": [
  {
   "cell_type": "markdown",
   "metadata": {},
   "source": [
    "## Zipping and Unzipping"
   ]
  },
  {
   "cell_type": "code",
   "execution_count": 1,
   "metadata": {},
   "outputs": [
    {
     "name": "stdout",
     "output_type": "stream",
     "text": [
      "(1, 'x')\n",
      "(2, 'y')\n",
      "(3, 'z')\n"
     ]
    }
   ],
   "source": [
    "for i in zip([1,2,3],['x','y','z']):\n",
    "    print(i)"
   ]
  },
  {
   "cell_type": "code",
   "execution_count": 2,
   "metadata": {},
   "outputs": [
    {
     "data": {
      "text/plain": [
       "set()"
      ]
     },
     "execution_count": 2,
     "metadata": {},
     "output_type": "execute_result"
    }
   ],
   "source": [
    "x = set(zip())\n",
    "x"
   ]
  },
  {
   "cell_type": "code",
   "execution_count": 3,
   "metadata": {},
   "outputs": [
    {
     "name": "stdout",
     "output_type": "stream",
     "text": [
      "(10,)\n",
      "(20,)\n",
      "(30,)\n"
     ]
    }
   ],
   "source": [
    "for item in zip([10, 20, 30]):\n",
    "    print(item)"
   ]
  },
  {
   "cell_type": "code",
   "execution_count": 4,
   "metadata": {},
   "outputs": [
    {
     "name": "stdout",
     "output_type": "stream",
     "text": [
      "(10, 'x', '$')\n",
      "(20, 'y', '@')\n",
      "(30, 'z', '#')\n"
     ]
    }
   ],
   "source": [
    "for item in zip([10,20,30], ['x','y','z'],['$','@','#']):\n",
    "    print(item)"
   ]
  },
  {
   "cell_type": "code",
   "execution_count": 5,
   "metadata": {},
   "outputs": [
    {
     "data": {
      "text/plain": [
       "{(10, 30), (20, 40)}"
      ]
     },
     "execution_count": 5,
     "metadata": {},
     "output_type": "execute_result"
    }
   ],
   "source": [
    "x = set(zip([10,20],[30,40,50,60]))\n",
    "x"
   ]
  },
  {
   "cell_type": "code",
   "execution_count": 6,
   "metadata": {},
   "outputs": [
    {
     "data": {
      "text/plain": [
       "{(10, 30), (20, 40), (None, 50), (None, 60)}"
      ]
     },
     "execution_count": 6,
     "metadata": {},
     "output_type": "execute_result"
    }
   ],
   "source": [
    "from itertools import zip_longest as l1\n",
    "\n",
    "x = set(l1([10,20],[30,40,50,60]))\n",
    "x"
   ]
  },
  {
   "cell_type": "code",
   "execution_count": 7,
   "metadata": {},
   "outputs": [
    {
     "name": "stdout",
     "output_type": "stream",
     "text": [
      "(10, 20, 30) ('x', 'y', 'z') ('$', '@', '#')\n"
     ]
    }
   ],
   "source": [
    "# unzipping values\n",
    "\n",
    "unzipping = zip([10,20,30], ['x','y','z'],['$','@','#'])\n",
    "x, y, z = zip(*unzipping)\n",
    "print(x, y, z)"
   ]
  },
  {
   "cell_type": "code",
   "execution_count": null,
   "metadata": {},
   "outputs": [],
   "source": []
  }
 ],
 "metadata": {
  "interpreter": {
   "hash": "43921ccd0d417290968ddb1092ede1b4ffa766979e9b52fdd2e9ad77cb2ca700"
  },
  "kernelspec": {
   "display_name": "Python 3.7.9 64-bit ('udemy': venv)",
   "name": "python3"
  },
  "language_info": {
   "codemirror_mode": {
    "name": "ipython",
    "version": 3
   },
   "file_extension": ".py",
   "mimetype": "text/x-python",
   "name": "python",
   "nbconvert_exporter": "python",
   "pygments_lexer": "ipython3",
   "version": "3.7.9"
  },
  "orig_nbformat": 4
 },
 "nbformat": 4,
 "nbformat_minor": 2
}
